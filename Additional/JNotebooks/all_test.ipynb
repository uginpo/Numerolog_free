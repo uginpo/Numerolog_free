{
 "cells": [
  {
   "cell_type": "code",
   "execution_count": 3,
   "metadata": {},
   "outputs": [
    {
     "data": {
      "text/plain": [
       "CompletedProcess(args=['open', '/Users/user/Downloads/best-python-cheat-sheet.pdf'], returncode=0)"
      ]
     },
     "execution_count": 3,
     "metadata": {},
     "output_type": "execute_result"
    }
   ],
   "source": [
    "import os\n",
    "\n",
    "# Укажите путь к вашему PDF-файлу\n",
    "pdf_path = \"/Users/user/Downloads/best-python-cheat-sheet.pdf\"\n",
    "\n",
    "# Открываем PDF с помощью системного приложения\n",
    "# На macOS или Linux используйте:\n",
    "import subprocess\n",
    "subprocess.run(['open', pdf_path])  # macOS"
   ]
  }
 ],
 "metadata": {
  "kernelspec": {
   "display_name": ".venv",
   "language": "python",
   "name": "python3"
  },
  "language_info": {
   "codemirror_mode": {
    "name": "ipython",
    "version": 3
   },
   "file_extension": ".py",
   "mimetype": "text/x-python",
   "name": "python",
   "nbconvert_exporter": "python",
   "pygments_lexer": "ipython3",
   "version": "3.13.2"
  }
 },
 "nbformat": 4,
 "nbformat_minor": 2
}
