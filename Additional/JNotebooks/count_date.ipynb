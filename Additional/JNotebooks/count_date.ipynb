{
 "cells": [
  {
   "cell_type": "code",
   "execution_count": null,
   "metadata": {},
   "outputs": [],
   "source": [
    "import numpy as np\n",
    "from datetime import date\n",
    "from PIL import Image, ImageDraw, ImageFont"
   ]
  },
  {
   "cell_type": "markdown",
   "metadata": {},
   "source": [
    "### Блок расчетов"
   ]
  },
  {
   "cell_type": "code",
   "execution_count": 2,
   "metadata": {},
   "outputs": [],
   "source": [
    "def birthday():\n",
    "    \"\"\"Ввод даты рождения и имени\n",
    "\n",
    "    Returns:\n",
    "        the tuple: (дата рождения в формате date, имя)\n",
    "    \"\"\"\n",
    "    date_components = input('Enter a date formatted as ДД.MM.ГГГГ: ').split('.')\n",
    "\n",
    "    day, month, year = [int(item) for item in date_components]\n",
    "    birth_day = date(year, month, day)\n",
    "\n",
    "    name = input('Введите имя')\n",
    "\n",
    "    return (birth_day, name)\n",
    "\n",
    "def num_to_single(num):\n",
    "    \"\"\"Рассчитывает одно число из суммы цифр числа num\n",
    "    Args:\n",
    "        num (int): number\n",
    "    Returns:\n",
    "        int: one number\n",
    "    \"\"\"\n",
    "    string = str(num)\n",
    "\n",
    "    while len(string)>1:\n",
    "        string = str(sum([int(item) for item in string]))\n",
    "        \n",
    "    return int(string)\n",
    "\n",
    "\n",
    "def get_main(data):\n",
    "    \"\"\"Возвращает основные числа, рассчитанные по дате рождения\n",
    "    Args:\n",
    "        data: (дата рождения) в формате date  \n",
    "    Returns:\n",
    "        tuple: (day, month, year, sum_3, sum_4)  в приведенном к одному числу формате\n",
    "    \"\"\"\n",
    "    a = [num_to_single(item) for item in (data.day, data.month, data.year)]\n",
    "    \n",
    "    for i in range(2):\n",
    "        a.append(num_to_single(sum(a)))\n",
    "\n",
    "    return tuple(a)\n",
    "\n",
    "\n",
    "def get_additional(data):\n",
    "    \"\"\"Возвращает дополнительные числа, рассчитанными попарно из основных\n",
    "    Args:\n",
    "        data (tuple): main_data\n",
    "    Returns:\n",
    "        tuple: (day_month, month_year, year_sum3, sum3_sum4, sum4_day)\n",
    "    \"\"\"\n",
    "\n",
    "    a=[num_to_single(data[i]+data[i+1]) for i in range(len(data)-1)]\n",
    "    a.append(num_to_single(data[0]+data[-1]))\n",
    "    return tuple(a)\n"
   ]
  },
  {
   "cell_type": "markdown",
   "metadata": {},
   "source": [
    "### Parameters block"
   ]
  },
  {
   "cell_type": "code",
   "execution_count": 3,
   "metadata": {},
   "outputs": [],
   "source": [
    "# Шаблоны и результаты\n",
    "template_path = '/Users/user/Desktop/Python/Jupiter_Notebook/Numerolog/Page_templates/'\n",
    "result_path = '/Users/user/Desktop/Python/Jupiter_Notebook/Numerolog/Results/'"
   ]
  },
  {
   "cell_type": "code",
   "execution_count": 27,
   "metadata": {},
   "outputs": [],
   "source": [
    "# Шрифты для заполнения форм \n",
    "\n",
    "# Характеристики для заголовков\n",
    "header_font = {\n",
    "    \"family\": 'Gilroy-Semibold.ttf',\n",
    "    \"size\": 30,\n",
    "    \"color\": '#E3DDD0',\n",
    "    \"stroke_fill\": None,\n",
    "    \"stroke_width\": None\n",
    "}\n",
    "\n",
    "# Характеристики для футера\n",
    "footer_font = {\n",
    "    \"family\": 'Gilroy-Semibold.ttf',\n",
    "    \"size\": 45,\n",
    "    \"color\": '#E3DDD0',\n",
    "    \"stroke_fill\": None,\n",
    "    \"stroke_width\": None\n",
    "}\n",
    "\n",
    "# Характеристики для основного текста\n",
    "body_font = {\n",
    "    \"family\": \"Calibri\",\n",
    "    \"size\": 14,\n",
    "    \"color\": \"black\",\n",
    "    \"stroke_fill\": None,\n",
    "    \"stroke_width\": None\n",
    "}\n",
    "\n",
    "# Характеристики для табличного текста (для звезд, таблиц и пр.)\n",
    "main_font = {\n",
    "    \"family\": 'Gilroy-Bold.ttf',\n",
    "    \"size\": 35,\n",
    "    \"color\": \"#E6DFD2\",\n",
    "    \"stroke_fill\": None,\n",
    "    \"stroke_width\": None\n",
    "}\n",
    "additional_font = {\n",
    "    \"family\": 'Gilroy-Medium.ttf',\n",
    "    \"size\": 25,\n",
    "    \"color\": \"#E6DFD2\",\n",
    "    \"stroke_fill\": 'black',\n",
    "    \"stroke_width\": 1\n",
    "}\n",
    "mission_font = {\n",
    "    \"family\": 'Gilroy-Semibold.ttf',\n",
    "    \"size\": 40,\n",
    "    \"color\": \"#FF693A\",\n",
    "    \"stroke_fill\": None,\n",
    "    \"stroke_width\": None\n",
    "}\n",
    "money_main_font = {\n",
    "    \"family\": 'Gilroy-Semibold.ttf',\n",
    "    \"size\": 40,\n",
    "    \"color\": \"#04070F\",\n",
    "    \"stroke_fill\": None,\n",
    "    \"stroke_width\": None\n",
    "}\n",
    "pifagor_font = header_font\n",
    "money_font = main_font"
   ]
  },
  {
   "cell_type": "code",
   "execution_count": 5,
   "metadata": {},
   "outputs": [],
   "source": [
    "# Параметры и координаты \"посадочных\" квадратов для заполнения звезды\n",
    "main_width, main_height = 55, 55\n",
    "additional_width, additional_height = 45, 45\n",
    "mission_width, mission_height = 60, 60\n",
    "\n",
    "main_coord = np.array([[81, 268, 458, 388, 145], [290, 148, 290, 518, 518]])\n",
    "additional_coord = np.array([[221, 323, 350, 273, 200], [299, 299, 389, 444, 389]])\n",
    "mission_coord = np.array([[268], [351]])"
   ]
  },
  {
   "cell_type": "code",
   "execution_count": 6,
   "metadata": {},
   "outputs": [],
   "source": [
    "# Параметры и координаты \"посадочных\" фигкр для заполнения header and footer\n",
    "header_width, header_height = 506, 78\n",
    "header_coord = np.array([[45], [35]])\n",
    "\n",
    "footer_width, footer_height = 26, 38\n",
    "footer_coord = np.array([[183, 234, 285, 336, 387], [706, 706, 706, 706, 706]])"
   ]
  },
  {
   "cell_type": "markdown",
   "metadata": {},
   "source": [
    "### Блок расчета координат"
   ]
  },
  {
   "cell_type": "code",
   "execution_count": 7,
   "metadata": {},
   "outputs": [],
   "source": [
    "def get_pos(data, dimension, img=None, my_font=None, coordinates=None):\n",
    "    \"\"\"Возвращает координаты для ввода данных в объект img\n",
    "    Args:\n",
    "        data (tuple): данные для вставки в изображение\n",
    "        dimension (tuple): (ширина,  высота) изображения\n",
    "        img (text): ссылка на файл изображения\n",
    "        my_font (dict): параметры шрифта\n",
    "        coordinates (np.array): координаты мест вставки на шаблоне страницы\n",
    "\n",
    "    Returns:\n",
    "        a (array): координаты для вставки данных data в шаблон страницы\n",
    "    \"\"\"\n",
    "\n",
    "    # Создаем изображение\n",
    "    im = Image.open(img) if img else Image.new('RGB', dimension, color='white')\n",
    "    \n",
    "    width, height = im.size\n",
    "    draw = ImageDraw.Draw(im)\n",
    "    font = ImageFont.truetype(font=my_font['family'], size=my_font['size'])\n",
    "    X = []\n",
    "    Y = []\n",
    "\n",
    "    for item in data:\n",
    "        # Получаем размеры текста с помощью textbbox\n",
    "        text_bbox = draw.textbbox((0, 0), str(item), font=font)\n",
    "        text_width = text_bbox[2] - text_bbox[0]\n",
    "        text_height = text_bbox[3] - text_bbox[1]\n",
    "\n",
    "        # Вычисляем координаты для выравнивания текста по центру\n",
    "        x = (width - text_width) / 2\n",
    "        y = (height - text_height) / 2\n",
    "        X.append(x)\n",
    "        Y.append(y)\n",
    "        a = np.array([X, Y])\n",
    "    \n",
    "    im.close()\n",
    "    b = coordinates + a\n",
    "    return [(float(b[0][i]), float(b[1][i])) for i in range(len(b[0]))]"
   ]
  },
  {
   "cell_type": "markdown",
   "metadata": {},
   "source": [
    "### Блок вывода на экран и записи в файл"
   ]
  },
  {
   "cell_type": "code",
   "execution_count": 8,
   "metadata": {},
   "outputs": [],
   "source": [
    "def text2star(im, data, coords, my_font=None):\n",
    "    \"\"\"Вывод на экран и добавление данных к изображению\n",
    "    Args:\n",
    "        im : открытый объект класса Image (изображение)\n",
    "        data (list): данные для добавления в изображение\n",
    "        coords (tuple): координаты для добавления данных в изображение\n",
    "        my_font (dict): параметры шрифта\n",
    "    \"\"\"\n",
    "\n",
    "    draw_text = ImageDraw.Draw(im)\n",
    "    font = ImageFont.truetype(font=my_font['family'], size=my_font['size'])\n",
    "\n",
    "    for item in zip(data, coords):\n",
    "        text = item[0]\n",
    "        place = item[1]\n",
    "        draw_text.text(\n",
    "            place,\n",
    "            str(text),\n",
    "            font=font,\n",
    "            fill=(my_font['color']),\n",
    "            stroke_fill = my_font['stroke_fill'],\n",
    "            stroke_width = my_font['stroke_width']\n",
    "            )\n",
    "    return im"
   ]
  },
  {
   "cell_type": "code",
   "execution_count": 9,
   "metadata": {},
   "outputs": [],
   "source": [
    "# Ввод даты рождения и имени\n",
    "birth_day, name  = birthday()"
   ]
  },
  {
   "cell_type": "code",
   "execution_count": 10,
   "metadata": {},
   "outputs": [],
   "source": [
    "# Формирование переменных для добавления на 1 страницу (\"звезда\")\n",
    "header_data = (f'{name} {birth_day.strftime(\"%d.%m.%Y\")}',)\n",
    "main_data = get_main(birth_day)\n",
    "additional_data = get_additional(main_data)\n",
    "mission_data = (num_to_single(sum(main_data)),)\n",
    "footer_data = main_data"
   ]
  },
  {
   "cell_type": "code",
   "execution_count": 11,
   "metadata": {},
   "outputs": [],
   "source": [
    "# Расчет координат для данных в шаблоне\n",
    "header_coordinates = get_pos(header_data, (header_width, header_height), img=None, my_font=header_font, coordinates=header_coord)\n",
    "main_coordinates = get_pos(main_data, (main_width, main_height), img=None, my_font=main_font, coordinates=main_coord)\n",
    "additional_coordinates = get_pos(additional_data, (additional_width, additional_height), img=None, my_font=additional_font, coordinates=additional_coord)\n",
    "mission_coordinates = get_pos(mission_data, (mission_width, mission_height), img=None, my_font=mission_font, coordinates=mission_coord)\n",
    "footer_coordinates = get_pos(footer_data, (footer_width, footer_height), img=None, my_font=footer_font, coordinates=footer_coord)"
   ]
  },
  {
   "cell_type": "code",
   "execution_count": 12,
   "metadata": {},
   "outputs": [],
   "source": [
    "img = template_path + 'A4 - 1.jpg'\n",
    "with Image.open(img) as im:\n",
    "    text2star(im, header_data, header_coordinates, my_font=header_font)\n",
    "    text2star(im, main_data, main_coordinates, my_font=main_font)\n",
    "    text2star(im, additional_data, additional_coordinates, my_font=additional_font)\n",
    "    text2star(im, mission_data, mission_coordinates, my_font=mission_font)\n",
    "    first_page = text2star(im, footer_data, footer_coordinates, my_font=footer_font)\n",
    "\n",
    "    first_page.show()\n",
    "    first_page.save(f'{result_path}{name}_page_01.jpg')"
   ]
  },
  {
   "cell_type": "markdown",
   "metadata": {},
   "source": [
    "### Создание страницы \"Таблица Пифагора\""
   ]
  },
  {
   "cell_type": "code",
   "execution_count": 13,
   "metadata": {},
   "outputs": [],
   "source": [
    "def get_pif_additional(data):\n",
    "    \"\"\"Рассчитывает и возвращает кортеж из дня рождения и дополнительных чисел \n",
    "\n",
    "    Args:\n",
    "        data (date): дата рождения в формате date\n",
    "\n",
    "    Returns:\n",
    "        tuple: (pif_add_1, pif_add_2, pif_add_4, pif_add_4, pif_add_5)\n",
    "        четыре или пять дополнительных чисел в зависимости от года рождения\n",
    "    \"\"\"\n",
    "    pif1 = sum([int(item) for item in data.strftime(\"%d%m%Y\")])\n",
    "    pif2 = num_to_single(pif1) if pif1 not in(11, 22, 33, 44) else pif1\n",
    "    pif3 = pif1 - 2 * int(str(data.day)[0]) if data.year < 2000 else 19\n",
    "    print(pif3)\n",
    "    pif4 = num_to_single(pif3) if data.year < 2000 else pif1 + pif3\n",
    "    pif5 = 0 if data.year < 2000 else num_to_single(pif4)\n",
    "\n",
    "    result =((int(data.strftime(\"%d%m%Y\")), pif1, pif2, pif3, pif4) if data.year < 2000 \n",
    "                else (int(data.strftime(\"%d%m%Y\")), pif1, pif2, pif3, pif4, pif5))\n",
    "    \n",
    "    return result\n",
    "\n",
    "\n",
    "def get_pif_dict(data):\n",
    "    \"\"\"Принимает дату рождения и дополнительные числа Пифагора\n",
    "        возвращает словарь с количеством цифр в каждом квадрате\n",
    "\n",
    "    Args:\n",
    "        data tuple: кортеж из даты и доп. чисел\n",
    "\n",
    "    Returns:\n",
    "        dict: количество цифр от 1 до 9 в каждом квадрате\n",
    "    \"\"\"\n",
    "    my_data = \"\".join([str(item) for item in data])\n",
    "    pif_dict = {i-1:str(i) * my_data.count(str(i)) for i in range(1, 10)}\n",
    "    pif_data = tuple(val if val else '0' for val in pif_dict.values())\n",
    "\n",
    "    return pif_data\n",
    "\n",
    "    \n",
    "def matrix_from_grid(initial_coord, step_coord):\n",
    "    \"\"\"Подсчетывает координаты ячеек сетки по начальным значениям и шагу\n",
    "\n",
    "    Args:\n",
    "        initial_coord (tuple): начальные координаты сетки ячеек для текста\n",
    "        step_coord (tuple): смещения по x y координат ячеек\n",
    "\n",
    "    Returns:\n",
    "        array: массив координат ячеек\n",
    "    \"\"\"\n",
    "    x, y = initial_coord\n",
    "    delta_x, delta_y = step_coord\n",
    "    a = np.array([[x]*9, [y]*9])\n",
    "    row_addition = np.array(list(np.arange(3) * delta_y)*3)\n",
    "\n",
    "    for j in range(3,6):\n",
    "        a[0][j] += delta_x\n",
    "\n",
    "    for j in range(6,9):\n",
    "        a[0][j] += 2 * delta_x\n",
    "\n",
    "    a[1] += row_addition\n",
    "    return a "
   ]
  },
  {
   "cell_type": "code",
   "execution_count": 14,
   "metadata": {},
   "outputs": [
    {
     "name": "stdout",
     "output_type": "stream",
     "text": [
      "15\n"
     ]
    }
   ],
   "source": [
    "# Формирование данных для вставки в шаблон Таблица Пифагора\n",
    "a = get_pif_additional(birth_day)\n",
    "header_data = (\" \".join((birth_day.strftime(\"%d.%m.%Y\"), *tuple(map(str, a[1:])))),)\n",
    "pifagor_data = get_pif_dict(a)"
   ]
  },
  {
   "cell_type": "code",
   "execution_count": 15,
   "metadata": {},
   "outputs": [],
   "source": [
    "pifagor_width, pifagor_height = 120, 78\n",
    "pifagor_x, pifagor_y = 67, 214\n",
    "pifagor_stepx, pifagor_stepy = 170, 172\n",
    "\n",
    "pifagor_coord = matrix_from_grid((pifagor_x, pifagor_y), (pifagor_stepx, pifagor_stepy))"
   ]
  },
  {
   "cell_type": "code",
   "execution_count": 16,
   "metadata": {},
   "outputs": [],
   "source": [
    "# Формирование координат для вставки в шаблон Таблица Пифагора\n",
    "header_coordinates = get_pos(header_data, (header_width, header_height), img=None, my_font=header_font, coordinates=header_coord)\n",
    "pifagor_coordinates = get_pos(pifagor_data, (pifagor_width, pifagor_height), img=None, my_font=pifagor_font, coordinates=pifagor_coord)"
   ]
  },
  {
   "cell_type": "code",
   "execution_count": 17,
   "metadata": {},
   "outputs": [],
   "source": [
    "img = template_path + 'A4 - 2.jpg'\n",
    "with Image.open(img) as im:\n",
    "    text2star(im, pifagor_data, pifagor_coordinates, my_font=pifagor_font)\n",
    "    pifogor_page = text2star(im, header_data, header_coordinates, my_font=header_font)\n",
    "\n",
    "    pifogor_page.show()\n",
    "    pifogor_page.save(f'{result_path}{name}_page_02.jpg')"
   ]
  },
  {
   "cell_type": "markdown",
   "metadata": {},
   "source": [
    "### Создание страницы \"Денежный треугольник\""
   ]
  },
  {
   "cell_type": "code",
   "execution_count": 18,
   "metadata": {},
   "outputs": [],
   "source": [
    "# Формирование данных для вставки в шаблон Денежный треугольник\n",
    "my_data = (additional_data[1], main_data[2], additional_data[2])\n",
    "temp = get_additional(my_data)\n",
    "\n",
    "money_main_data = (additional_data[1],)\n",
    "money_data = (*temp[:2], my_data[2], temp[2], my_data[1])"
   ]
  },
  {
   "cell_type": "code",
   "execution_count": 33,
   "metadata": {},
   "outputs": [],
   "source": [
    "money_main_width, money_main_height = 60, 60\n",
    "money_width, money_height = 55, 55\n",
    "\n",
    "money_main_coord = np.array([[265], [304]])\n",
    "money_coord = np.array([[145, 392, 462, 270, 75], [551, 551, 687, 687, 687]])"
   ]
  },
  {
   "cell_type": "code",
   "execution_count": 34,
   "metadata": {},
   "outputs": [],
   "source": [
    "# Формирование координат для вставки в шаблон Таблица Пифагора\n",
    "money_main_coordinates = get_pos(money_main_data, (money_main_width, money_main_height), img=None, my_font=money_main_font, coordinates=money_main_coord)\n",
    "money_coordinates = get_pos(money_data, (money_width, money_height), img=None, my_font=money_font, coordinates=money_coord)"
   ]
  },
  {
   "cell_type": "code",
   "execution_count": null,
   "metadata": {},
   "outputs": [],
   "source": [
    "img = template_path + 'A4 - 3.jpg'\n",
    "\n",
    "with Image.open(img) as im:\n",
    "    text2star(im, money_main_data, money_main_coordinates, my_font=money_main_font)\n",
    "    money_page = text2star(im, money_data, money_coordinates, my_font=money_font)\n",
    "\n",
    "    money_page.show()\n",
    "    money_page.save(f'{result_path}{name}_page_03.jpg')"
   ]
  },
  {
   "cell_type": "code",
   "execution_count": 41,
   "metadata": {},
   "outputs": [
    {
     "name": "stdout",
     "output_type": "stream",
     "text": [
      "DPI изображения: 72x72\n"
     ]
    }
   ],
   "source": [
    "img = template_path + 'A4 - 3.png'\n",
    "img = \"/Users/user/Desktop/Python/Jupiter_Notebook/Numerolog/Results/Евгений_page_03.jpg\"\n",
    "with Image.open(img) as image:\n",
    "    dpi = image.info.get(\"dpi\", (72, 72))  # (x-dpi, y-dpi)\n",
    "    print(f\"DPI изображения: {dpi[0]}x{dpi[1]}\")"
   ]
  }
 ],
 "metadata": {
  "kernelspec": {
   "display_name": ".venv",
   "language": "python",
   "name": "python3"
  },
  "language_info": {
   "codemirror_mode": {
    "name": "ipython",
    "version": 3
   },
   "file_extension": ".py",
   "mimetype": "text/x-python",
   "name": "python",
   "nbconvert_exporter": "python",
   "pygments_lexer": "ipython3",
   "version": "3.13.2"
  }
 },
 "nbformat": 4,
 "nbformat_minor": 2
}
